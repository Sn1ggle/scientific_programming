{
 "cells": [
  {
   "cell_type": "code",
   "execution_count": 2,
   "metadata": {},
   "outputs": [
    {
     "name": "stdout",
     "output_type": "stream",
     "text": [
      "[10, 20, 30, 40, 50, 60]\n"
     ]
    }
   ],
   "source": [
    "a = [10, 20]\n",
    "b = a\n",
    "b += [30, 40]\n",
    "a += [50, 60]\n",
    "print(b)"
   ]
  },
  {
   "cell_type": "code",
   "execution_count": 3,
   "metadata": {},
   "outputs": [
    {
     "name": "stdout",
     "output_type": "stream",
     "text": [
      "9.0\n",
      "7\n"
     ]
    }
   ],
   "source": [
    "print(36 / 4)\n",
    "print(36 // 5)"
   ]
  },
  {
   "cell_type": "code",
   "execution_count": 4,
   "metadata": {},
   "outputs": [
    {
     "name": "stdout",
     "output_type": "stream",
     "text": [
      "1 1 1 {1, 2, 3}\n"
     ]
    }
   ],
   "source": [
    "myList = [1, 2, 3]\n",
    "myTuple = (1, 2, 3)\n",
    "myDictionary = {\"a\": 1, \"b\": 2, \"c\": 3}\n",
    "mySet = {1, 2, 3}\n",
    "\n",
    "print(myList[0], myTuple[0], myDictionary[\"a\"], mySet)"
   ]
  },
  {
   "cell_type": "code",
   "execution_count": 5,
   "metadata": {},
   "outputs": [
    {
     "name": "stdout",
     "output_type": "stream",
     "text": [
      "<class 'list'>\n"
     ]
    }
   ],
   "source": [
    "obj = [1,2,3,4,5,6,7,8,9]\n",
    "print(type(obj[0:5]))"
   ]
  },
  {
   "cell_type": "code",
   "execution_count": 6,
   "metadata": {},
   "outputs": [
    {
     "name": "stdout",
     "output_type": "stream",
     "text": [
      "Peter and Mary are living together.\n",
      "Peter and Mary are living together.\n"
     ]
    }
   ],
   "source": [
    "s1 = \"Peter\"\n",
    "s2 = \"Mary\"\n",
    "s3 = \"%s and %s are living together.\" % (s1, s2)\n",
    "s4 = \"{} and {} are living together.\".format(s1, s2)\n",
    "print(s3)\n",
    "print(s4)"
   ]
  },
  {
   "cell_type": "code",
   "execution_count": 7,
   "metadata": {},
   "outputs": [
    {
     "name": "stdout",
     "output_type": "stream",
     "text": [
      "Hello, Peter. You are 25 years old.\n",
      "Hello, Peter. You are 25 years old.\n"
     ]
    }
   ],
   "source": [
    "person = {'name': 'Peter', 'age': 25}\n",
    "print(\"Hello, {name}. You are {age} years old.\".format(name=person['name'], age=person['age']))\n",
    "print(\"Hello, {name}. You are {age} years old.\".format(**person))"
   ]
  },
  {
   "cell_type": "code",
   "execution_count": 9,
   "metadata": {},
   "outputs": [
    {
     "name": "stdout",
     "output_type": "stream",
     "text": [
      "42.36%\n"
     ]
    }
   ],
   "source": [
    "print(\"{:.2%}\".format(0.42356782))"
   ]
  },
  {
   "cell_type": "code",
   "execution_count": 10,
   "metadata": {},
   "outputs": [
    {
     "name": "stdout",
     "output_type": "stream",
     "text": [
      "00000042\n"
     ]
    }
   ],
   "source": [
    "print(\"{:0>8d}\".format(42))"
   ]
  },
  {
   "cell_type": "code",
   "execution_count": 11,
   "metadata": {},
   "outputs": [
    {
     "name": "stdout",
     "output_type": "stream",
     "text": [
      "5665.78\n"
     ]
    }
   ],
   "source": [
    "x = 56.6578\n",
    "print(f'{x*100:.2f}')"
   ]
  },
  {
   "cell_type": "code",
   "execution_count": 12,
   "metadata": {},
   "outputs": [
    {
     "name": "stdout",
     "output_type": "stream",
     "text": [
      "type of t3 = <class 'datetime.timedelta'>\n"
     ]
    }
   ],
   "source": [
    "from datetime import datetime, date\n",
    "t1 = date(year = 1984, month = 12, day = 31)\n",
    "t2 = date(year = 2022, month = 12, day = 31)\n",
    "t3 = t2 - t1\n",
    "print(\"type of t3 =\", type(t3))"
   ]
  },
  {
   "cell_type": "code",
   "execution_count": 13,
   "metadata": {},
   "outputs": [
    {
     "name": "stdout",
     "output_type": "stream",
     "text": [
      "3.000000e+03\n"
     ]
    }
   ],
   "source": [
    "a = 3000\n",
    "print(f\"{a:e}\")"
   ]
  },
  {
   "cell_type": "code",
   "execution_count": 17,
   "metadata": {},
   "outputs": [
    {
     "name": "stdout",
     "output_type": "stream",
     "text": [
      " 1 |   1 |      1\n",
      " 2 |   4 |     32\n",
      " 3 |   9 |    243\n",
      " 4 |  16 |   1024\n",
      " 5 |  25 |   3125\n",
      " 6 |  36 |   7776\n",
      " 7 |  49 |  16807\n",
      " 8 |  64 |  32768\n",
      " 9 |  81 |  59049\n",
      "10 | 100 | 100000\n"
     ]
    }
   ],
   "source": [
    "for x in range(1, 11): print(f'{x:2} | {x**2:3} | {x**5:6}')"
   ]
  },
  {
   "cell_type": "code",
   "execution_count": 8,
   "metadata": {},
   "outputs": [
    {
     "name": "stdout",
     "output_type": "stream",
     "text": [
      "-----------------------------------\n",
      "NT\n",
      "Windows | 10\n",
      "Datetime: 2024-06-04 22:07:56\n",
      "Python Version: 3.10.13\n",
      "-----------------------------------\n"
     ]
    }
   ],
   "source": [
    "import os\n",
    "import platform\n",
    "import socket\n",
    "from platform import python_version\n",
    "from datetime import datetime\n",
    "\n",
    "print('-----------------------------------')\n",
    "print(os.name.upper())\n",
    "print(platform.system(), '|', platform.release())\n",
    "print('Datetime:', datetime.now().strftime(\"%Y-%m-%d %H:%M:%S\"))\n",
    "print('Python Version:', python_version())\n",
    "print('-----------------------------------')"
   ]
  }
 ],
 "metadata": {
  "kernelspec": {
   "display_name": "spenv",
   "language": "python",
   "name": "python3"
  },
  "language_info": {
   "codemirror_mode": {
    "name": "ipython",
    "version": 3
   },
   "file_extension": ".py",
   "mimetype": "text/x-python",
   "name": "python",
   "nbconvert_exporter": "python",
   "pygments_lexer": "ipython3",
   "version": "3.10.13"
  }
 },
 "nbformat": 4,
 "nbformat_minor": 2
}
